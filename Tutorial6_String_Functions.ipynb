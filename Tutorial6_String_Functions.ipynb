{
  "nbformat": 4,
  "nbformat_minor": 0,
  "metadata": {
    "colab": {
      "name": "Tutorial6_String_Functions.ipynb",
      "provenance": [],
      "authorship_tag": "ABX9TyMXg2C/d79M2pe+LciMHzSw",
      "include_colab_link": true
    },
    "kernelspec": {
      "name": "python3",
      "display_name": "Python 3"
    }
  },
  "cells": [
    {
      "cell_type": "markdown",
      "metadata": {
        "id": "view-in-github",
        "colab_type": "text"
      },
      "source": [
        "<a href=\"https://colab.research.google.com/github/Shambhavi-Gupta/Tutorial6_StringFunctions/blob/main/Tutorial6_String_Functions.ipynb\" target=\"_parent\"><img src=\"https://colab.research.google.com/assets/colab-badge.svg\" alt=\"Open In Colab\"/></a>"
      ]
    },
    {
      "cell_type": "code",
      "metadata": {
        "id": "uxm7MMzA-Rib"
      },
      "source": [
        "my_str = \"Subscribe fun with data science\"\r\n",
        "print(my_str.isalnum())\r\n",
        "print(my_str.endswith(\"science\"))\r\n",
        "print(my_str.endswith('sciences'))\r\n",
        "print(my_str.count(\"e\"))\r\n",
        "print(my_str.capitalize()) #helps to capitalize the first alphabet of the starting word\r\n",
        "print(my_str.find(\"subscribe\"))   #it tells the index of the word starting from 0\r\n",
        "print(my_str.lower())\r\n",
        "print(my_str.upper())"
      ],
      "execution_count": null,
      "outputs": []
    }
  ]
}